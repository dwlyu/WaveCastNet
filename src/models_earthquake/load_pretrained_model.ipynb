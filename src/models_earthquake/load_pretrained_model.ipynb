{
 "cells": [
  {
   "cell_type": "code",
   "execution_count": null,
   "metadata": {},
   "outputs": [
    {
     "data": {
      "text/plain": [
       "<All keys matched successfully>"
      ]
     },
     "execution_count": 4,
     "metadata": {},
     "output_type": "execute_result"
    }
   ],
   "source": [
    "import torch\n",
    "import torch.nn as nn\n",
    "import numpy as np \n",
    "import torch\n",
    "from AEConvLEM_sparse import AEConvLEM_sparse\n",
    "from AEConvLEM_dense import AEConvLEM_dense\n",
    "\n",
    "all_sample = len(np.load('filtered_coord.npy'))\n",
    "real_sample = len(np.load('shakealert_coords.npy'))\n",
    "mask_ratio = 1. - real_sample/all_sample\n",
    "\n",
    "sparse_model = AEConvLEM_sparse(dt=1, num_channels=3, num_kernels=144, \n",
    "            kernel_size=(3, 3), padding=(1, 1), activation=\"tanh\", \n",
    "            frame_size=(43,28),mask_mode=1, mask_ratio=mask_ratio)\n",
    "\n",
    "dense_model = AEConvLEM_dense(dt=1, num_channels=3, num_kernels=144, \n",
    "            kernel_size=(3, 3), padding=(1, 1), activation=\"tanh\", \n",
    "            frame_size=(43,28))\n",
    "\n",
    "# Load checkpoint\n",
    "state_dict_sprase = torch.load(\"checkpoints/best_lem_irr_mask_shakealert_.pt\", map_location=torch.device('cuda'))\n",
    "state_dict_dense = torch.load(\"checkpoints/best_lem_dense_.pt\", map_location=torch.device('cuda'))\n",
    "\n",
    "# # Remove 'module.' saved after data parallel\n",
    "state_dict_sprase = {k.replace(\"module.\", \"\"): v for k, v in state_dict_sprase.items()}\n",
    "state_dict_dense = {k.replace(\"module.\", \"\"): v for k, v in state_dict_dense.items()}\n",
    "\n",
    "# # Load into model\n",
    "sparse_model.load_state_dict(state_dict_sprase)\n",
    "dense_model.load_state_dict(state_dict_dense)"
   ]
  },
  {
   "cell_type": "code",
   "execution_count": null,
   "metadata": {},
   "outputs": [],
   "source": []
  }
 ],
 "metadata": {
  "kernelspec": {
   "display_name": "base",
   "language": "python",
   "name": "python3"
  },
  "language_info": {
   "codemirror_mode": {
    "name": "ipython",
    "version": 3
   },
   "file_extension": ".py",
   "mimetype": "text/x-python",
   "name": "python",
   "nbconvert_exporter": "python",
   "pygments_lexer": "ipython3",
   "version": "3.11.4"
  }
 },
 "nbformat": 4,
 "nbformat_minor": 2
}
